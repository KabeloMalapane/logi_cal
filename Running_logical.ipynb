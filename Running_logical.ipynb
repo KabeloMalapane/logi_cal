{
 "cells": [
  {
   "cell_type": "code",
   "execution_count": 7,
   "id": "74faef68-034a-4c81-8db4-3c555f82c68f",
   "metadata": {},
   "outputs": [],
   "source": [
    "import numpy as np\n",
    "import pandas as pd\n",
    "import random \n",
    "import matplotlib.pyplot as plt\n",
    "from matplotlib.legend_handler import HandlerLine2D, HandlerTuple\n",
    "plt.rcParams.update({'font.size': 14})\n",
    "\n",
    "\n",
    "\n",
    "from copy import deepcopy\n",
    "import argparse\n",
    "import os\n",
    "import linsolve\n",
    "\n",
    "from hera_cal import utils\n",
    "from hera_cal import version\n",
    "from hera_cal.noise import predict_noise_variance_from_autos\n",
    "from hera_cal.datacontainer import DataContainer\n",
    "from hera_cal.utils import split_pol, conj_pol, split_bl, reverse_bl, join_bl, join_pol, comply_pol\n",
    "from hera_cal.io import HERAData, HERACal, write_cal, save_redcal_meta\n",
    "from hera_cal.apply_cal import calibrate_in_place\n",
    "\n",
    "## Importing functions\n",
    "from hera_cal.redcal import _get_pol_load_list, filter_reds, redundantly_calibrate, expand_omni_sol,get_pos_reds ,add_pol_reds\n",
    "import All_functions as logical ## Logi_Cal functions\n",
    "\n",
    "\n",
    "### Fixing degenaracies\n",
    "\n",
    "\n",
    "import hera_pspec as hp\n",
    "import hera_cal as hc\n",
    "from hera_sim import io\n",
    "\n",
    "## Classification\n",
    "from sklearn.cluster import KMeans\n",
    "\n"
   ]
  },
  {
   "cell_type": "code",
   "execution_count": 10,
   "id": "4ad66c48-bef9-4365-a444-8747c52061d7",
   "metadata": {},
   "outputs": [],
   "source": [
    "import modified_redcal as new_code  ## Logical Code is here"
   ]
  },
  {
   "cell_type": "code",
   "execution_count": 4,
   "id": "5793697f-248b-4b8c-a4f4-a541f2e074be",
   "metadata": {},
   "outputs": [],
   "source": [
    "\n",
    "## Data files for case_3a_0.01 simulation with 124 antennas, nfreq=120 , ntimes=10\n",
    "\n",
    "# ## ========================================================= Case 3a =================================================================\n",
    "filename = \"../non-redundant-pipeline/test_simulations/case_3a/calibration_124_120_10/viscatBC_stretch0.01_g_cal.uvh5\"  ## Calibrated Data\n",
    "filename1 = \"../non-redundant-pipeline/test_simulations/case_3a/calibration_124_120_10/viscatBC_stretch0.01_g.uvh5\"     ## Uncalibrated data\n",
    "filename2 = \"../non-redundant-pipeline/test_simulations/case_3a/calibration_124_120_10/viscatBC_stretch0.01.uvh5\"       ## True data\n",
    "gain_filename = \"../non-redundant-pipeline/test_simulations/case_3a/calibration_124_120_10/viscatBC_stretch0.01.calfits\"## Gain file\n"
   ]
  },
  {
   "cell_type": "code",
   "execution_count": 8,
   "id": "c433b777-a66f-4e14-a4d7-dfe339b1c5fc",
   "metadata": {},
   "outputs": [
    {
     "name": "stderr",
     "output_type": "stream",
     "text": [
      "Telescope hera_sim is not in known_telescopes.\n",
      "Telescope hera_sim is not in known_telescopes.\n",
      "Telescope hera_sim is not in known_telescopes.\n"
     ]
    },
    {
     "data": {
      "text/plain": [
       "<hera_cal.io.HERAData at 0x7f64423c9160>"
      ]
     },
     "execution_count": 8,
     "metadata": {},
     "output_type": "execute_result"
    }
   ],
   "source": [
    "### Opening the Files\n",
    "\n",
    "c_data = HERAData(filename)   ## calibrated data\n",
    "c_data.read()\n",
    "\n",
    "hd = HERAData(filename1)   ## Uncalibrated data (data has noise and gains)\n",
    "hd.read()\n",
    "\n",
    "true_data = HERAData(filename2)  ## True data (No noise and gains)\n",
    "true_data.read()\n",
    "\n",
    "\n",
    "import utils\n",
    "\n",
    "true_gains, _= hc.io.load_cal(gain_filename)  ## Calling dictionary of true gains\n",
    "\n",
    "from hera_cal import utils\n",
    "\n",
    "c_data\n",
    "\n",
    "\n"
   ]
  },
  {
   "cell_type": "code",
   "execution_count": 13,
   "id": "c621a4f7-9223-4805-97e4-257f300646aa",
   "metadata": {},
   "outputs": [],
   "source": [
    "N_red_clusters = 60  # First Number of redundant baseline groups to cluster\n",
    "k_value = 3  # K-value in k-means (number of clusters we want to split the redundant baselines groups)\n",
    "\n",
    "customized_groups = new_code.get_custom_reds(hd, c_data, k_value, N_red_clusters)"
   ]
  },
  {
   "cell_type": "code",
   "execution_count": 15,
   "id": "c9db4d48-23a3-4940-8f9b-e0fbd27bc62c",
   "metadata": {},
   "outputs": [
    {
     "name": "stdout",
     "output_type": "stream",
     "text": [
      "redcal_iteration_custom2 Complete\n"
     ]
    }
   ],
   "source": [
    "## Getting gain solutions\n",
    "\n",
    "custom_red_gains = new_code.redcal_iteration_custom2(hd,customized_groups,min_bl_cut=10,max_bl_cut=80)"
   ]
  },
  {
   "cell_type": "code",
   "execution_count": 16,
   "id": "594d11b9-bf98-4678-91e9-5f621e024213",
   "metadata": {},
   "outputs": [
    {
     "name": "stderr",
     "output_type": "stream",
     "text": [
      "Telescope hera_sim is not in known_telescopes.\n"
     ]
    }
   ],
   "source": [
    "## Fixing degeneracies\n",
    "\n",
    "custom_red_gains_fixed = logical.fix_redcal_degeneracies(filename1, custom_red_gains['g_omnical'], true_gains)\n"
   ]
  },
  {
   "cell_type": "code",
   "execution_count": null,
   "id": "f14d14d3-9646-46e8-a65e-85e9c2f818d0",
   "metadata": {},
   "outputs": [],
   "source": []
  },
  {
   "cell_type": "code",
   "execution_count": null,
   "id": "9f1c5f42-27ad-480c-9e7b-1fb7c14e3a84",
   "metadata": {},
   "outputs": [],
   "source": []
  }
 ],
 "metadata": {
  "kernelspec": {
   "display_name": "HERA",
   "language": "python",
   "name": "hera"
  },
  "language_info": {
   "codemirror_mode": {
    "name": "ipython",
    "version": 3
   },
   "file_extension": ".py",
   "mimetype": "text/x-python",
   "name": "python",
   "nbconvert_exporter": "python",
   "pygments_lexer": "ipython3",
   "version": "3.8.3"
  }
 },
 "nbformat": 4,
 "nbformat_minor": 5
}
