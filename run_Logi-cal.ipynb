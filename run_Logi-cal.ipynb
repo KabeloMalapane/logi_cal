{
 "cells": [
  {
   "cell_type": "code",
   "execution_count": 2,
   "id": "resistant-sharp",
   "metadata": {},
   "outputs": [],
   "source": [
    "import numpy as np\n",
    "import pandas as pd\n",
    "import random \n",
    "import matplotlib.pyplot as plt\n",
    "from matplotlib.legend_handler import HandlerLine2D, HandlerTuple\n",
    "plt.rcParams.update({'font.size': 14})\n",
    "\n",
    "from copy import deepcopy\n",
    "import argparse\n",
    "import os\n",
    "import linsolve\n",
    "\n",
    "from hera_cal import utils\n",
    "from hera_cal import version\n",
    "from hera_cal.noise import predict_noise_variance_from_autos\n",
    "from hera_cal.datacontainer import DataContainer\n",
    "from hera_cal.utils import split_pol, conj_pol, split_bl, reverse_bl, join_bl, join_pol, comply_pol\n",
    "from hera_cal.io import HERAData, HERACal, write_cal, save_redcal_meta\n",
    "from hera_cal.apply_cal import calibrate_in_place\n",
    "\n",
    "## Importing functions\n",
    "from hera_cal.redcal import _get_pol_load_list, filter_reds, redundantly_calibrate, expand_omni_sol,get_pos_reds ,add_pol_reds\n",
    "import All_functions as logical ## Logi_Cal functions\n",
    "import modified_redcal\n",
    "\n",
    "### Fixing degenaracies\n",
    "\n",
    "\n",
    "import hera_pspec as hp\n",
    "import hera_cal as hc\n",
    "from hera_sim import io\n",
    "\n",
    "## Classification\n",
    "from sklearn.cluster import KMeans\n",
    "\n",
    "# import uvtools\n",
    "# import hera_cal as hc\n",
    "# import hera_pspec as hp\n",
    "# from pyuvdata import UVCal, UVData\n",
    "# import pyuvdata.utils as uvutils\n",
    "\n",
    "\n",
    "\n",
    "\n",
    "SEC_PER_DAY = 86400.\n",
    "IDEALIZED_BL_TOL = 1e-8  # bl_error_tol for redcal.get_reds when using antenna positions calculated from reds\n"
   ]
  },
  {
   "cell_type": "code",
   "execution_count": 3,
   "id": "linear-smile",
   "metadata": {},
   "outputs": [
    {
     "name": "stderr",
     "output_type": "stream",
     "text": [
      "Telescope hera_sim is not in known_telescopes.\n",
      "Telescope hera_sim is not in known_telescopes.\n",
      "Telescope hera_sim is not in known_telescopes.\n"
     ]
    }
   ],
   "source": [
    "# filename = \"../non-redundant-pipeline/calibration_3a_0.01_10_10/viscatBC_stretch0.01_g_cal.uvh5\"  ## Calibrated Data\n",
    "# filename1 = \"../non-redundant-pipeline/calibration_3a_0.01_10_10/viscatBC_stretch0.01_g.uvh5\"     ## Uncalibrated data\n",
    "# filename2 = \"../non-redundant-pipeline/calibration_3a_0.01_10_10/viscatBC_stretch0.01.uvh5\"       ## True data\n",
    "# gain_filename = \"../non-redundant-pipeline/calibration_3a_0.01_10_10/viscatBC_stretch0.01.calfits\"## Gain file\n",
    "\n",
    "\n",
    "##########################################################################################################################\n",
    "##########################################################################################################################\n",
    "\n",
    "\n",
    "# calib_param = \"10_10_60\"  ## Array_nfreq_ntimes\n",
    "\n",
    "non_red_cases_list = [\"case3a\", \"case_4a_0.01\", \"case_4b_0.01\", \"case_5\"]\n",
    "non_red_case = non_red_cases_list[0]\n",
    "\n",
    "calib_param = \"10_120_10\"  ## Array_nfreq_ntimes\n",
    "\n",
    "## ========================================================= Case 3a =================================================================\n",
    "filename = \"../non-redundant-pipeline/test_simulations/case_3a/calibration_\" +calib_param+ \"/viscatBC_stretch0.01_g_cal.uvh5\"  ## Calibrated Data\n",
    "filename1 = \"../non-redundant-pipeline/test_simulations/case_3a/calibration_\" +calib_param+ \"/viscatBC_stretch0.01_g.uvh5\"     ## Uncalibrated data\n",
    "filename2 = \"../non-redundant-pipeline/test_simulations/case_3a/calibration_\" +calib_param+ \"/viscatBC_stretch0.01.uvh5\"       ## True data\n",
    "gain_filename = \"../non-redundant-pipeline/test_simulations/case_3a/calibration_\" +calib_param+ \"/viscatBC_stretch0.01.calfits\"## Gain file\n",
    "\n",
    "# ## ========================================================= Case 4a_0.01 =========================================================\n",
    "# filename = \"../non-redundant-pipeline/test_simulations/case_4a_0.01/calibration_\" +calib_param+ \"/viscatBC_4a_0.01_g_cal.uvh5\"  ## Calibrated Data\n",
    "# filename1 = \"../non-redundant-pipeline/test_simulations/case_4a_0.01/calibration_\" +calib_param+ \"/viscatBC_4a_0.01_g.uvh5\"     ## Uncalibrated data\n",
    "# filename2 = \"../non-redundant-pipeline/test_simulations/case_4a_0.01/calibration_\" +calib_param+ \"/viscatBC_4a_0.01.uvh5\"       ## True data\n",
    "# gain_filename = \"../non-redundant-pipeline/test_simulations/case_4a_0.01/calibration_\" +calib_param+ \"/viscatBC_4a_0.01.calfits\"## Gain file\n",
    "\n",
    "\n",
    "# ## ========================================================= Case 4b_0.01 =========================================================\n",
    "# filename = \"../non-redundant-pipeline/test_simulations/case_4b_0.01/calibration_\" +calib_param+ \"/viscatBC_4b_0.01_g_cal.uvh5\"  ## Calibrated Data\n",
    "# filename1 = \"../non-redundant-pipeline/test_simulations/case_4b_0.01/calibration_\" +calib_param+ \"/viscatBC_4b_0.01_g.uvh5\"     ## Uncalibrated data\n",
    "# filename2 = \"../non-redundant-pipeline/test_simulations/case_4b_0.01/calibration_\" +calib_param+ \"/viscatBC_4b_0.01.uvh5\"       ## True data\n",
    "# gain_filename = \"../non-redundant-pipeline/test_simulations/case_4b_0.01/calibration_\" +calib_param+ \"/viscatBC_4b_0.01.calfits\"## Gain file\n",
    "\n",
    "\n",
    "# ## ========================================================= Case 5 =========================================================\n",
    "# filename = \"../non-redundant-pipeline/test_simulations/case_5/calibration_\" +calib_param+ \"/viscatBC_5_g_cal.uvh5\"  ## Calibrated Data\n",
    "# filename1 = \"../non-redundant-pipeline/test_simulations/case_5//calibration_\" +calib_param+ \"/viscatBC_5_g.uvh5\"     ## Uncalibrated data\n",
    "# filename2 = \"../non-redundant-pipeline/test_simulations/case_5/calibration_\" +calib_param+ \"/viscatBC_5.uvh5\"       ## True data\n",
    "# gain_filename = \"../non-redundant-pipeline/test_simulations/case_5/calibration_\" +calib_param+ \"/viscatBC_5.calfits\"## Gain file\n",
    "\n",
    "\n",
    "#############################################################################################################################################\n",
    "\n",
    "# filename = \"../non-redundant-pipeline/calibration_3a_0.01_10_10/viscatBC_stretch0.01_g_cal.uvh5\"\n",
    "# filename1 = \"../non-redundant-pipeline/calibration_3a_0.01_10_10/viscatBC_stretch0.01_g.uvh5\"\n",
    "# filename2 = \"../non-redundant-pipeline/calibration_3a_0.01_10_10/viscatBC_stretch0.01.uvh5\"\n",
    "# gain_filename = \"../non-redundant-pipeline/calibration_3a_0.01_10_10/viscatBC_stretch0.01.calfits\"## Gain file\n",
    "\n",
    "\n",
    "# filename = \"../non-redundant-pipeline/calibration/viscatBC_stretch0.01_g_cal.uvh5\"\n",
    "# filename1 = \"../non-redundant-pipeline/calibration/viscatBC_stretch0.01_g.uvh5\"\n",
    "# filename2 = \"../non-redundant-pipeline/calibration/viscatBC_stretch0.01.uvh5\"\n",
    "# gain_filename = \"../non-redundant-pipeline/calibration/viscatBC_stretch0.01.calfits\"  ## Gain file\n",
    "\n",
    "\n",
    "\n",
    "\n",
    "c_data = HERAData(filename)   ## calibrated data\n",
    "c_data.read()\n",
    "\n",
    "hd = HERAData(filename1)   ## Uncalibrated data (data has noise and gains)\n",
    "hd.read()\n",
    "\n",
    "true_data = HERAData(filename2)  ## True data (No noise and gains)\n",
    "true_data.read()\n",
    "\n",
    "\n",
    "import utils\n",
    "\n",
    "true_gains, _= hc.io.load_cal(gain_filename)  ## Calling dictionary of true gains\n",
    "\n",
    "from hera_cal import utils\n"
   ]
  },
  {
   "cell_type": "code",
   "execution_count": 4,
   "id": "appropriate-divorce",
   "metadata": {},
   "outputs": [
    {
     "data": {
      "image/png": "[encoded data removed]",
      "text/plain": [
       "<Figure size 1008x792 with 1 Axes>"
      ]
     },
     "metadata": {
      "needs_background": "light"
     },
     "output_type": "display_data"
    }
   ],
   "source": [
    "plt.figure(figsize=(14,11))\n",
    "\n",
    "for i in range(len(hd.antpos)):\n",
    "    plt.plot(hd.antpos[i][0], hd.antpos[i][1],'bo', alpha=0.4, label='0', markersize=55)\n",
    "    plt.annotate(\"{}\".format(i), (hd.antpos[i][0],hd.antpos[i][1] ))\n",
    "plt.xlabel('X')\n",
    "plt.ylabel('Y')\n",
    "plt.show()"
   ]
  },
  {
   "cell_type": "markdown",
   "id": "ranking-possible",
   "metadata": {},
   "source": [
    "## Running Red_Cal"
   ]
  },
  {
   "cell_type": "code",
   "execution_count": 6,
   "id": "atmospheric-sustainability",
   "metadata": {},
   "outputs": [],
   "source": [
    "from hera_cal.redcal import redcal_iteration\n",
    "\n",
    "# Running RedCal\n",
    "red_gains = redcal_iteration(hd)\n",
    "\n",
    "## Fixing degeneracies\n",
    "\n",
    "red_gains_fixed = logical.fix_redcal_degeneracies(filename1, red_gains['g_omnical'],true_gains)"
   ]
  },
  {
   "cell_type": "markdown",
   "id": "induced-removal",
   "metadata": {},
   "source": [
    "## Using modified_redcal.py to call Logi_cal"
   ]
  },
  {
   "cell_type": "code",
   "execution_count": 7,
   "id": "aggregate-globe",
   "metadata": {},
   "outputs": [
    {
     "name": "stdout",
     "output_type": "stream",
     "text": [
      "[[(0, 3, 'ee'), (2, 5, 'ee'), (6, 9, 'ee')], [(1, 4, 'ee'), (5, 8, 'ee')], [(4, 7, 'ee')], [(0, 4, 'ee')], [(1, 5, 'ee'), (5, 9, 'ee')], [(2, 6, 'ee'), (3, 7, 'ee'), (4, 8, 'ee')], [(0, 1, 'ee'), (4, 5, 'ee')], [(1, 2, 'ee'), (3, 4, 'ee'), (5, 6, 'ee'), (8, 9, 'ee')], [(7, 8, 'ee')], [(0, 7, 'ee')], [(1, 8, 'ee')], [(2, 9, 'ee')], [(1, 3, 'ee'), (2, 4, 'ee'), (5, 7, 'ee'), (6, 8, 'ee')], [(0, 5, 'ee'), (1, 6, 'ee'), (3, 8, 'ee'), (4, 9, 'ee')], [(0, 2, 'ee'), (3, 5, 'ee'), (4, 6, 'ee'), (7, 9, 'ee')], [(1, 7, 'ee'), (2, 8, 'ee')], [(0, 8, 'ee'), (1, 9, 'ee')], [(2, 3, 'ee'), (6, 7, 'ee')], [(0, 6, 'ee'), (3, 9, 'ee')], [(2, 7, 'ee')], [(0, 9, 'ee')], [(3, 6, 'ee')]]\n",
      "redcal_iteration_custom2 Complete\n"
     ]
    },
    {
     "name": "stderr",
     "output_type": "stream",
     "text": [
      "Telescope hera_sim is not in known_telescopes.\n"
     ]
    }
   ],
   "source": [
    "#### Using a k-means clustering\n",
    "\n",
    "N_red_clusters = 4\n",
    "k_value = 3\n",
    "#Running Logi_Cal \n",
    "\n",
    "customized_groups = modified_redcal.get_custom_reds(hd,c_data,k_value,N_red_clusters)\n",
    "custom_red_gains = modified_redcal.redcal_iteration_custom2(hd,customized_groups)\n",
    "\n",
    "\n",
    "## Fixing degeneracies\n",
    "\n",
    "custom_red_gains_fixed = logical.fix_redcal_degeneracies(filename1, custom_red_gains['g_omnical'], true_gains)\n",
    "\n"
   ]
  },
  {
   "cell_type": "markdown",
   "id": "composite-chart",
   "metadata": {},
   "source": [
    "## Using All_functions.py to call Logi_cal"
   ]
  },
  {
   "cell_type": "code",
   "execution_count": 23,
   "id": "covered-bangladesh",
   "metadata": {},
   "outputs": [
    {
     "name": "stdout",
     "output_type": "stream",
     "text": [
      "redcal_iteration_custom2 Complete\n"
     ]
    },
    {
     "name": "stderr",
     "output_type": "stream",
     "text": [
      "Telescope hera_sim is not in known_telescopes.\n"
     ]
    }
   ],
   "source": [
    "#### Using a k-means clustering\n",
    "\n",
    "N_red_clusters = 4\n",
    "k_value = 3\n",
    "#Running Logi_Cal \n",
    "customized_groups = logical.custom_reds2(hd,c_data,k_value,N_red_clusters)\n",
    "custom_red_gains = logical.redcal_iteration_custom2(hd,customized_groups)\n",
    "\n",
    "\n",
    "## Fixing degeneracies\n",
    "custom_red_gains_fixed = logical.fix_redcal_degeneracies(filename1, custom_red_gains['g_omnical'], true_gains)\n",
    "\n"
   ]
  },
  {
   "cell_type": "code",
   "execution_count": 8,
   "id": "brutal-protest",
   "metadata": {},
   "outputs": [],
   "source": [
    "aa = [[(0, 3, 'ee'), (2, 5, 'ee'), (6, 9, 'ee')], [(1, 4, 'ee'), (5, 8, 'ee')], [(4, 7, 'ee')], [(0, 4, 'ee')], [(1, 5, 'ee'), (5, 9, 'ee')], [(2, 6, 'ee'), (3, 7, 'ee'), (4, 8, 'ee')], [(0, 1, 'ee'), (4, 5, 'ee')], [(1, 2, 'ee'), (3, 4, 'ee'), (5, 6, 'ee'), (8, 9, 'ee')], [(7, 8, 'ee')], [(0, 7, 'ee')], [(1, 8, 'ee')], [(2, 9, 'ee')], [(1, 3, 'ee'), (2, 4, 'ee'), (5, 7, 'ee'), (6, 8, 'ee')], [(0, 5, 'ee'), (1, 6, 'ee'), (3, 8, 'ee'), (4, 9, 'ee')], [(0, 2, 'ee'), (3, 5, 'ee'), (4, 6, 'ee'), (7, 9, 'ee')], [(1, 7, 'ee'), (2, 8, 'ee')], [(0, 8, 'ee'), (1, 9, 'ee')], [(2, 3, 'ee'), (6, 7, 'ee')], [(0, 6, 'ee'), (3, 9, 'ee')], [(2, 7, 'ee')], [(0, 9, 'ee')], [(3, 6, 'ee')]]"
   ]
  },
  {
   "cell_type": "code",
   "execution_count": null,
   "id": "public-madrid",
   "metadata": {},
   "outputs": [],
   "source": []
  },
  {
   "cell_type": "code",
   "execution_count": null,
   "id": "graphic-installation",
   "metadata": {},
   "outputs": [],
   "source": []
  }
 ],
 "metadata": {
  "kernelspec": {
   "display_name": "HERA",
   "language": "python",
   "name": "hera"
  },
  "language_info": {
   "codemirror_mode": {
    "name": "ipython",
    "version": 3
   },
   "file_extension": ".py",
   "mimetype": "text/x-python",
   "name": "python",
   "nbconvert_exporter": "python",
   "pygments_lexer": "ipython3",
   "version": "3.8.3"
  }
 },
 "nbformat": 4,
 "nbformat_minor": 5
}
